{
  "cells": [
    {
      "cell_type": "code",
      "execution_count": 12,
      "metadata": {
        "id": "USLgt5hkYKOn"
      },
      "outputs": [],
      "source": [
        "import pandas as pd\n",
        "import psycopg2\n",
        "import requests"
      ]
    },
    {
      "cell_type": "code",
      "execution_count": 13,
      "metadata": {
        "colab": {
          "base_uri": "https://localhost:8080/",
          "height": 356
        },
        "id": "9PJghjQEYhgg",
        "outputId": "7415045a-8b3d-4697-b693-612c6fa5ea9c"
      },
      "outputs": [],
      "source": [
        "# Scripts de creacion de tablas\n",
        "\n",
        "sql_especies = \"\"\" CREATE TABLE IF NOT EXISTS fmorosini_coderhouse.especies (\n",
        "\tid int NOT NULL,\n",
        "\tnombrevulgar varchar(50) NOT NULL,\n",
        "\tnombrecientifico varchar(50) NOT NULL,\n",
        "\timagen varchar(50) NOT NULL,\n",
        "\tmagnitud int4 NOT NULL,\n",
        "\ttipo varchar(15) NOT NULL,\n",
        "\tfollaje varchar(15) NOT NULL,\n",
        "\turl_ficha varchar(255) NULL,\n",
        "\tthumbnail varchar(100) NULL,\n",
        "\tCONSTRAINT especies_pkey PRIMARY KEY (id)\n",
        "); \"\"\"\n",
        "\n",
        "\n",
        "sql_localidades = \"\"\" CREATE TABLE IF NOT EXISTS fmorosini_coderhouse.localidades (\n",
        "\tid int NOT NULL,\n",
        "\tnombre varchar(80) NULL,\n",
        "\tCONSTRAINT localidades_pk PRIMARY KEY (id)\n",
        "); \"\"\"\n",
        "\n",
        "sql_arboles = \"\"\" CREATE TABLE IF NOT EXISTS fmorosini_coderhouse.arboles (\n",
        "\tid int4 NOT NULL,\n",
        "\tlat float,\n",
        "\tlon float,\n",
        "\tespecie int4 NOT NULL,\n",
        "\tlocalidad int4 NOT NULL,\n",
        "\tCONSTRAINT clave PRIMARY KEY (id)\n",
        "); \"\"\"\n",
        "\n",
        "sql_FK_1 = \"\"\" ALTER TABLE fmorosini_coderhouse.arboles ADD CONSTRAINT \"FK_especie\" FOREIGN KEY (especie) REFERENCES fmorosini_coderhouse.especies(id); \"\"\"\n",
        "sql_FK_2 = \"\"\" ALTER TABLE fmorosini_coderhouse.arboles ADD CONSTRAINT \"FK_localidad\" FOREIGN KEY (localidad) REFERENCES fmorosini_coderhouse.localidades(id); \"\"\""
      ]
    },
    {
      "cell_type": "code",
      "execution_count": 14,
      "metadata": {},
      "outputs": [],
      "source": [
        "# Defino connectionstring y abro conexión\n",
        "\n",
        "con = psycopg2.connect(\"dbname=data-engineer-database host=data-engineer-cluster.cyhh5bfevlmn.us-east-1.redshift.amazonaws.com port= 5439 user=fmorosini_coderhouse password= 77Vz3W9KPP\")"
      ]
    },
    {
      "cell_type": "code",
      "execution_count": 15,
      "metadata": {},
      "outputs": [
        {
          "name": "stdout",
          "output_type": "stream",
          "text": [
            "Error, las FK ya están creadas\n"
          ]
        }
      ],
      "source": [
        "# Corro los sql de creación de tablas y Foreign Keys\n",
        "\n",
        "cursor = con.cursor()\n",
        "\n",
        "cursor.execute(sql_especies)\n",
        "cursor.execute(sql_localidades)\n",
        "cursor.execute(sql_arboles)\n",
        "con.commit()\n",
        "\n",
        "try:\n",
        "    cursor.execute(sql_FK_1)\n",
        "    cursor.execute(sql_FK_2)\n",
        "    con.commit()\n",
        "except:\n",
        "    print(\"Error, las FK ya están creadas\")\n",
        "    con.rollback()\n",
        "\n",
        "con.close()"
      ]
    },
    {
      "cell_type": "code",
      "execution_count": 16,
      "metadata": {},
      "outputs": [],
      "source": [
        "# URLs de endpoints de las 3 entidades\n",
        "\n",
        "url_especies = \"https://api.arbolesurbanos.com.ar/json/especies\"\n",
        "url_localidades = \"https://api.arbolesurbanos.com.ar/json/localidades\"\n",
        "url_arboles = \"https://api.arbolesurbanos.com.ar/json/arboles\"\n",
        "\n",
        "# Traigo la data\n",
        "\n",
        "req_especies = requests.get(url_especies)\n",
        "req_localidades = requests.get(url_localidades)\n",
        "req_arboles = requests.get(url_arboles)\n",
        "\n",
        "# Convierto a Dict\n",
        "\n",
        "especies = req_especies.json()[\"data\"]\n",
        "localidades = req_localidades.json()[\"data\"]\n",
        "arboles = req_arboles.json()[\"data\"]\n",
        "\n",
        "# Cargo DataFrames con los dict\n",
        "\n",
        "especies_df = pd.DataFrame.from_dict(especies)\n",
        "localidades_df = pd.DataFrame.from_dict(localidades)"
      ]
    },
    {
      "cell_type": "code",
      "execution_count": 17,
      "metadata": {},
      "outputs": [],
      "source": [
        "# Al de arboles hay que laburarlo un poco más porque está en GeoJson, un Json específico para guardar datos georreferenciados\n",
        "\n",
        "arboles_list = []\n",
        "\n",
        "for arbol in arboles:\n",
        "\n",
        "    arbol_dict = {}\n",
        "\n",
        "    arbol_dict[\"id\"] = arbol[\"id\"]\n",
        "    arbol_dict[\"localidad\"] = arbol[\"localidad\"]\n",
        "    arbol_dict[\"especie\"] = arbol[\"especie\"]\n",
        "    arbol_dict[\"lon\"] = arbol[\"posicion\"][\"coordinates\"][0]\n",
        "    arbol_dict[\"lat\"] = arbol[\"posicion\"][\"coordinates\"][1]\n",
        "\n",
        "    arboles_list.append(arbol_dict)"
      ]
    },
    {
      "cell_type": "code",
      "execution_count": 18,
      "metadata": {},
      "outputs": [],
      "source": [
        "arboles_df = pd.DataFrame.from_dict(arboles_list)"
      ]
    },
    {
      "cell_type": "code",
      "execution_count": 19,
      "metadata": {},
      "outputs": [],
      "source": [
        "# Vuelvo a abrir conexión para eliminar datos de tablas\n",
        "\n",
        "con = psycopg2.connect(\"dbname=data-engineer-database host=data-engineer-cluster.cyhh5bfevlmn.us-east-1.redshift.amazonaws.com port= 5439 user=fmorosini_coderhouse password= 77Vz3W9KPP\")\n",
        "\n",
        "cursor = con.cursor()"
      ]
    },
    {
      "cell_type": "code",
      "execution_count": 20,
      "metadata": {},
      "outputs": [],
      "source": [
        "sql_delete_arboles = \"\"\" DELETE FROM arboles WHERE 1 = 1 \"\"\"\n",
        "sql_delete_especies  = \"\"\" DELETE FROM especies WHERE 1 = 1 \"\"\"\n",
        "sql_delete_localidades = \"\"\" DELETE FROM localidades WHERE 1 = 1 \"\"\"\n",
        "\n",
        "cursor.execute(sql_delete_arboles)\n",
        "cursor.execute(sql_delete_especies)\n",
        "cursor.execute(sql_delete_localidades)\n",
        "\n",
        "con.commit()\n",
        "\n",
        "con.close()"
      ]
    },
    {
      "cell_type": "code",
      "execution_count": null,
      "metadata": {},
      "outputs": [],
      "source": [
        "con = psycopg2.connect(\"dbname=data-engineer-database host=data-engineer-cluster.cyhh5bfevlmn.us-east-1.redshift.amazonaws.com port= 5439 user=fmorosini_coderhouse password= 77Vz3W9KPP\")\n",
        "\n",
        "def inserta_localidades(fila):\n",
        "\n",
        "    cursor = con.cursor()\n",
        "\n",
        "    cursor.execute(\"\"\" INSERT INTO localidades (id,nombre) VALUES (%s,%s)\"\"\",(fila[\"ogc_fid\"],fila[\"nombre\"]))\n",
        "\n",
        "    con.commit()\n",
        "\n",
        "def inserta_especies(fila):\n",
        "\n",
        "    cursor = con.cursor()\n",
        "\n",
        "    cursor.execute(\"\"\" INSERT INTO especies (id,nombrevulgar,nombrecientifico,imagen,magnitud,tipo,follaje,url_ficha,thumbnail) VALUES (%s,%s,%s,%s,%s,%s,%s,%s,%s)\"\"\",(fila[\"id\"],fila[\"nombrevulgar\"],fila[\"nombrecientifico\"],fila[\"imagen\"],fila[\"magnitud\"],fila[\"tipo\"],fila[\"follaje\"],fila[\"url_ficha\"],fila[\"thumbnail\"]))\n",
        "\n",
        "    con.commit()\n",
        "\n",
        "def inserta_arboles(fila):\n",
        "\n",
        "    cursor = con.cursor()\n",
        "\n",
        "    cursor.execute(\"\"\" INSERT INTO arboles (id,especie,localidad,lat,lon) VALUES (%s,%s,%s,%s,%s)\"\"\",(fila[\"id\"],fila[\"especie\"],fila[\"localidad\"],fila[\"lat\"],fila[\"lon\"]))\n",
        "\n",
        "    con.commit()\n",
        "    \n",
        "\n",
        "localidades_df.apply(inserta_localidades,axis=1)\n",
        "especies_df.apply(inserta_especies,axis=1)\n",
        "\n",
        "#Solo inserto 100 árboles porque son 12000 y pico y tarda demasiado\n",
        "\n",
        "arboles_df.head(100).apply(inserta_arboles,axis=1)\n",
        "\n",
        "con.close()"
      ]
    },
    {
      "cell_type": "code",
      "execution_count": null,
      "metadata": {},
      "outputs": [],
      "source": [
        "# Limpio memoria\n",
        "\n",
        "del arboles_df\n",
        "del localidades_df\n",
        "del especies_df"
      ]
    }
  ],
  "metadata": {
    "colab": {
      "provenance": []
    },
    "kernelspec": {
      "display_name": "Python 3",
      "name": "python3"
    },
    "language_info": {
      "codemirror_mode": {
        "name": "ipython",
        "version": 3
      },
      "file_extension": ".py",
      "mimetype": "text/x-python",
      "name": "python",
      "nbconvert_exporter": "python",
      "pygments_lexer": "ipython3",
      "version": "3.9.13"
    }
  },
  "nbformat": 4,
  "nbformat_minor": 0
}
