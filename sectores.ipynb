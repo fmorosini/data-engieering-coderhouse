{
 "cells": [
  {
   "cell_type": "code",
   "execution_count": 28,
   "metadata": {},
   "outputs": [],
   "source": [
    "import geopandas as gpd\n",
    "import pandas as pd"
   ]
  },
  {
   "cell_type": "code",
   "execution_count": 29,
   "metadata": {},
   "outputs": [],
   "source": [
    "df_arboles = pd.read_csv(\"arboles_202303151135.csv\")\n",
    "df_sectores = pd.read_csv(\"sectores_202303151136.csv\")"
   ]
  },
  {
   "cell_type": "code",
   "execution_count": 30,
   "metadata": {},
   "outputs": [],
   "source": [
    "gdf_arboles = gpd.GeoDataFrame(df_arboles)\n",
    "gdf_sectores = gpd.GeoDataFrame(df_sectores)"
   ]
  },
  {
   "cell_type": "code",
   "execution_count": 31,
   "metadata": {},
   "outputs": [],
   "source": [
    "gdf_arboles[\"posicion\"] = gpd.GeoSeries.from_wkt(gdf_arboles[\"posicion\"])\n",
    "gdf_sectores[\"poligono\"] = gpd.GeoSeries.from_wkt(gdf_sectores[\"poligono\"])"
   ]
  },
  {
   "cell_type": "code",
   "execution_count": 32,
   "metadata": {},
   "outputs": [],
   "source": [
    "gdf_sectores[\"poligono\"]  = gdf_sectores[\"poligono\"].set_crs('EPSG:5344')\n",
    "gdf_arboles[\"posicion\"] = gdf_arboles[\"posicion\"].set_crs('EPSG:5344')"
   ]
  },
  {
   "cell_type": "code",
   "execution_count": 33,
   "metadata": {},
   "outputs": [],
   "source": [
    "gdf_sectores = gdf_sectores.set_geometry(\"poligono\")\n",
    "gdf_arboles = gdf_arboles.set_geometry(\"posicion\")"
   ]
  },
  {
   "cell_type": "code",
   "execution_count": 34,
   "metadata": {},
   "outputs": [],
   "source": [
    "fid_sectores = list(gdf_sectores[\"fid\"])\n",
    "gdf_arboles[\"sector\"] = None\n",
    "\n",
    "for s in fid_sectores:    \n",
    "    gdf_arboles.loc[ gdf_arboles[\"posicion\"].within(gdf_sectores[ gdf_sectores[\"fid\"] == s ].at[gdf_sectores[ gdf_sectores[\"fid\"] == s ].index[0],\"poligono\"]) , [\"sector\"]] = s\n"
   ]
  },
  {
   "cell_type": "code",
   "execution_count": 37,
   "metadata": {},
   "outputs": [],
   "source": [
    "gdf_arboles.to_file(\"arboles_sectores.shp\")"
   ]
  }
 ],
 "metadata": {
  "kernelspec": {
   "display_name": "Python 3",
   "language": "python",
   "name": "python3"
  },
  "language_info": {
   "codemirror_mode": {
    "name": "ipython",
    "version": 3
   },
   "file_extension": ".py",
   "mimetype": "text/x-python",
   "name": "python",
   "nbconvert_exporter": "python",
   "pygments_lexer": "ipython3",
   "version": "3.9.7"
  },
  "orig_nbformat": 4
 },
 "nbformat": 4,
 "nbformat_minor": 2
}
